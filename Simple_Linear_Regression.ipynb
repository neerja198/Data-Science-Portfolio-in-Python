{
  "nbformat": 4,
  "nbformat_minor": 0,
  "metadata": {
    "colab": {
      "name": "Simple Linear Regression ",
      "provenance": [],
      "mount_file_id": "11QxP5e4Z1brf_eLTk6DQD_cxCjsBYinN",
      "authorship_tag": "ABX9TyO53/A+oy7Wh4Je3FiP/AQP",
      "include_colab_link": true
    },
    "kernelspec": {
      "name": "python3",
      "display_name": "Python 3"
    }
  },
  "cells": [
    {
      "cell_type": "markdown",
      "metadata": {
        "id": "view-in-github",
        "colab_type": "text"
      },
      "source": [
        "<a href=\"https://colab.research.google.com/github/neerja198/Data-Science-Portfolio-in-Python/blob/master/Simple_Linear_Regression.ipynb\" target=\"_parent\"><img src=\"https://colab.research.google.com/assets/colab-badge.svg\" alt=\"Open In Colab\"/></a>"
      ]
    },
    {
      "cell_type": "markdown",
      "metadata": {
        "id": "0bDDOZfhpVI1",
        "colab_type": "text"
      },
      "source": [
        "#**Simple Linear Regression**"
      ]
    },
    {
      "cell_type": "markdown",
      "metadata": {
        "id": "_w-Z57OWs95x",
        "colab_type": "text"
      },
      "source": [
        " **Task - I am going to explain simple linear regression in a simplest way. For the beginner who wants to start their machine learning or data science can follow this simple data to understand simple linear regression.**\n",
        " \n",
        "**This data consists of salary and years of experience.I will show the relationship between salary and years of experience via simple linear Regression.**\n",
        "\n",
        "**Process Followed -**\n",
        "\n",
        "1.Load data.\n",
        "\n",
        "2.Check the missing values.\n",
        "\n",
        "3.Split the Dataset into Train model with training dataset.\n",
        "\n",
        "5.Have a look at the statistics.\n",
        "\n",
        "6.Test the trained model with provided test dataset."
      ]
    },
    {
      "cell_type": "code",
      "metadata": {
        "id": "Vkmn2QTvlnSn",
        "colab_type": "code",
        "colab": {}
      },
      "source": [
        "#import data manipulation liberaries\n",
        "import pandas as pd\n",
        "import numpy as np\n",
        "import math \n",
        "\n",
        "#import graph plotting liberaries\n",
        "import matplotlib.pyplot as plt\n",
        "\n",
        "#import the model selection liberaries\n",
        "from sklearn.linear_model import LinearRegression\n",
        "from sklearn.model_selection import train_test_split"
      ],
      "execution_count": 0,
      "outputs": []
    },
    {
      "cell_type": "markdown",
      "metadata": {
        "id": "0IKkNRl6rh9g",
        "colab_type": "text"
      },
      "source": [
        "# **Read or Load the given DataSet**"
      ]
    },
    {
      "cell_type": "code",
      "metadata": {
        "id": "XU9HiLx8piEQ",
        "colab_type": "code",
        "colab": {}
      },
      "source": [
        "df = pd.read_csv(\"/content/Salary.csv\")"
      ],
      "execution_count": 0,
      "outputs": []
    },
    {
      "cell_type": "code",
      "metadata": {
        "id": "1LpUHRO2tZ4_",
        "colab_type": "code",
        "outputId": "ab8425f9-ee14-4e89-c7ac-9a45f928207a",
        "colab": {
          "base_uri": "https://localhost:8080/",
          "height": 136
        }
      },
      "source": [
        "#Check the information about the DataSet\n",
        "df.info()"
      ],
      "execution_count": 8,
      "outputs": [
        {
          "output_type": "stream",
          "text": [
            "<class 'pandas.core.frame.DataFrame'>\n",
            "RangeIndex: 35 entries, 0 to 34\n",
            "Data columns (total 2 columns):\n",
            "YearsExperience    35 non-null float64\n",
            "Salary             35 non-null int64\n",
            "dtypes: float64(1), int64(1)\n",
            "memory usage: 688.0 bytes\n"
          ],
          "name": "stdout"
        }
      ]
    },
    {
      "cell_type": "code",
      "metadata": {
        "id": "Csuu2rZ6FnYY",
        "colab_type": "code",
        "colab": {
          "base_uri": "https://localhost:8080/",
          "height": 297
        },
        "outputId": "2c66e144-eabc-49e1-b7c9-ec5ee0f02a58"
      },
      "source": [
        "#Checking the mean, std and min, max values\n",
        "df.describe()"
      ],
      "execution_count": 59,
      "outputs": [
        {
          "output_type": "execute_result",
          "data": {
            "text/html": [
              "<div>\n",
              "<style scoped>\n",
              "    .dataframe tbody tr th:only-of-type {\n",
              "        vertical-align: middle;\n",
              "    }\n",
              "\n",
              "    .dataframe tbody tr th {\n",
              "        vertical-align: top;\n",
              "    }\n",
              "\n",
              "    .dataframe thead th {\n",
              "        text-align: right;\n",
              "    }\n",
              "</style>\n",
              "<table border=\"1\" class=\"dataframe\">\n",
              "  <thead>\n",
              "    <tr style=\"text-align: right;\">\n",
              "      <th></th>\n",
              "      <th>YearsExperience</th>\n",
              "      <th>Salary</th>\n",
              "    </tr>\n",
              "  </thead>\n",
              "  <tbody>\n",
              "    <tr>\n",
              "      <th>count</th>\n",
              "      <td>35.000000</td>\n",
              "      <td>35.000000</td>\n",
              "    </tr>\n",
              "    <tr>\n",
              "      <th>mean</th>\n",
              "      <td>6.308571</td>\n",
              "      <td>83945.600000</td>\n",
              "    </tr>\n",
              "    <tr>\n",
              "      <th>std</th>\n",
              "      <td>3.618610</td>\n",
              "      <td>32162.673003</td>\n",
              "    </tr>\n",
              "    <tr>\n",
              "      <th>min</th>\n",
              "      <td>1.100000</td>\n",
              "      <td>37731.000000</td>\n",
              "    </tr>\n",
              "    <tr>\n",
              "      <th>25%</th>\n",
              "      <td>3.450000</td>\n",
              "      <td>57019.000000</td>\n",
              "    </tr>\n",
              "    <tr>\n",
              "      <th>50%</th>\n",
              "      <td>5.300000</td>\n",
              "      <td>81363.000000</td>\n",
              "    </tr>\n",
              "    <tr>\n",
              "      <th>75%</th>\n",
              "      <td>9.250000</td>\n",
              "      <td>113223.500000</td>\n",
              "    </tr>\n",
              "    <tr>\n",
              "      <th>max</th>\n",
              "      <td>13.500000</td>\n",
              "      <td>139465.000000</td>\n",
              "    </tr>\n",
              "  </tbody>\n",
              "</table>\n",
              "</div>"
            ],
            "text/plain": [
              "       YearsExperience         Salary\n",
              "count        35.000000      35.000000\n",
              "mean          6.308571   83945.600000\n",
              "std           3.618610   32162.673003\n",
              "min           1.100000   37731.000000\n",
              "25%           3.450000   57019.000000\n",
              "50%           5.300000   81363.000000\n",
              "75%           9.250000  113223.500000\n",
              "max          13.500000  139465.000000"
            ]
          },
          "metadata": {
            "tags": []
          },
          "execution_count": 59
        }
      ]
    },
    {
      "cell_type": "code",
      "metadata": {
        "id": "qWHtDJTJtqiI",
        "colab_type": "code",
        "outputId": "6dc56aff-9954-49bb-c045-096a56a86dbf",
        "colab": {
          "base_uri": "https://localhost:8080/",
          "height": 68
        }
      },
      "source": [
        "#Another method to check the missing values\n",
        "df.isnull().sum()"
      ],
      "execution_count": 11,
      "outputs": [
        {
          "output_type": "execute_result",
          "data": {
            "text/plain": [
              "YearsExperience    0\n",
              "Salary             0\n",
              "dtype: int64"
            ]
          },
          "metadata": {
            "tags": []
          },
          "execution_count": 11
        }
      ]
    },
    {
      "cell_type": "markdown",
      "metadata": {
        "id": "AWUO25yk0JKl",
        "colab_type": "text"
      },
      "source": [
        "# **Divide data into train and test test**\n",
        "\n",
        "**The most common train and test split size is 80% data for train set and 20 % data for test set**"
      ]
    },
    {
      "cell_type": "code",
      "metadata": {
        "id": "f-hIfbTf0RqU",
        "colab_type": "code",
        "colab": {
          "base_uri": "https://localhost:8080/",
          "height": 85
        },
        "outputId": "0d87b071-1788-46cd-c833-cc9f5715e458"
      },
      "source": [
        "x_train, x_test, y_train, y_test = train_test_split(X,y,train_size=0.8,test_size=0.2,random_state=100)\n",
        "print(f\"X_train shape {x_train.shape}\")\n",
        "print(f\"y_train shape {y_train.shape}\")\n",
        "print(f\"X_test shape {x_test.shape}\")\n",
        "print(f\"y_test shape {y_test.shape}\")\n"
      ],
      "execution_count": 20,
      "outputs": [
        {
          "output_type": "stream",
          "text": [
            "X_train shape (28, 1)\n",
            "y_train shape (28, 1)\n",
            "X_test shape (7, 1)\n",
            "y_test shape (7, 1)\n"
          ],
          "name": "stdout"
        }
      ]
    },
    {
      "cell_type": "code",
      "metadata": {
        "id": "xoWEcLl1_S1y",
        "colab_type": "code",
        "colab": {
          "base_uri": "https://localhost:8080/",
          "height": 281
        },
        "outputId": "a8f7839d-09b1-4f02-a3d0-3d8968705e5c"
      },
      "source": [
        "# So let's plot some of the data \n",
        "plt.title('Relationship between X and Y')\n",
        "plt.scatter(x_train, y_train,  color='black')\n",
        "plt.show()"
      ],
      "execution_count": 42,
      "outputs": [
        {
          "output_type": "display_data",
          "data": {
            "image/png": "[encoded data removed]",
            "text/plain": [
              "<Figure size 432x288 with 1 Axes>"
            ]
          },
          "metadata": {
            "tags": []
          }
        }
      ]
    },
    {
      "cell_type": "code",
      "metadata": {
        "id": "RuYONJfMBd_A",
        "colab_type": "code",
        "colab": {
          "base_uri": "https://localhost:8080/",
          "height": 281
        },
        "outputId": "7a3dce54-89e3-4ca5-e36c-a9f179ac0214"
      },
      "source": [
        "plt.subplot(1, 2, 1)\n",
        "plt.title('X training set')\n",
        "plt.boxplot(x_train)\n",
        "\n",
        "plt.subplot(1, 2, 2)\n",
        "plt.title('Y training set')\n",
        "plt.boxplot(y_train)\n",
        "plt.show()"
      ],
      "execution_count": 44,
      "outputs": [
        {
          "output_type": "display_data",
          "data": {
            "image/png": "[encoded data removed]",
            "text/plain": [
              "<Figure size 432x288 with 2 Axes>"
            ]
          },
          "metadata": {
            "tags": []
          }
        }
      ]
    },
    {
      "cell_type": "markdown",
      "metadata": {
        "id": "PcLHPnc8Bro4",
        "colab_type": "text"
      },
      "source": [
        "## **Building Linear Regression Model using Sklearn**"
      ]
    },
    {
      "cell_type": "code",
      "metadata": {
        "id": "eWHVb0LnBwbW",
        "colab_type": "code",
        "colab": {
          "base_uri": "https://localhost:8080/",
          "height": 51
        },
        "outputId": "52b6e090-31bb-4323-c3b5-2341ccfdc937"
      },
      "source": [
        "lrm = LinearRegression()\n",
        "lrm.fit(x_train,y_train)\n",
        "y_predict = lrm.predict(x_test)\n",
        "print(f\"Train accuracy {round(lrm.score(x_train,y_train)*100,2)} %\")\n",
        "print(f\"Test accuracy {round(lrm.score(x_test,y_test)*100,2)} %\")"
      ],
      "execution_count": 45,
      "outputs": [
        {
          "output_type": "stream",
          "text": [
            "Train accuracy 96.07 %\n",
            "Test accuracy 96.31 %\n"
          ],
          "name": "stdout"
        }
      ]
    },
    {
      "cell_type": "code",
      "metadata": {
        "id": "NsOXbwbuCXIA",
        "colab_type": "code",
        "colab": {
          "base_uri": "https://localhost:8080/",
          "height": 34
        },
        "outputId": "5e3d913b-f4c5-4e06-cf0e-8aeee2d7f48e"
      },
      "source": [
        "# Checking the correlation-\n",
        "print('Correlation: ', math.sqrt(lrm.score(x_train,y_train)))"
      ],
      "execution_count": 56,
      "outputs": [
        {
          "output_type": "stream",
          "text": [
            "Correlation:  0.9801774059284221\n"
          ],
          "name": "stdout"
        }
      ]
    },
    {
      "cell_type": "code",
      "metadata": {
        "id": "hDU9CA94Cu7g",
        "colab_type": "code",
        "colab": {
          "base_uri": "https://localhost:8080/",
          "height": 295
        },
        "outputId": "804a9612-fc1f-489c-b83c-443100fe08e9"
      },
      "source": [
        "#let's run the model against the test data\n",
        "\n",
        "y_predicted = lrm.predict(x_test)\n",
        "plt.title('Comparison of Y values in test and the Predicted values')\n",
        "plt.ylabel('Test Set')\n",
        "plt.xlabel('Predicted values')\n",
        "plt.scatter(y_predicted, y_test,  color='black')\n",
        "plt.show()"
      ],
      "execution_count": 55,
      "outputs": [
        {
          "output_type": "display_data",
          "data": {
            "image/png": "[encoded data removed]",
            "text/plain": [
              "<Figure size 432x288 with 1 Axes>"
            ]
          },
          "metadata": {
            "tags": []
          }
        }
      ]
    }
  ]
}